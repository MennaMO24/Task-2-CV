{
 "cells": [
  {
   "cell_type": "code",
   "execution_count": 6,
   "id": "3ab5430a",
   "metadata": {},
   "outputs": [
    {
     "data": {
      "text/plain": [
       "-1"
      ]
     },
     "execution_count": 6,
     "metadata": {},
     "output_type": "execute_result"
    }
   ],
   "source": [
    "import cv2\n",
    "\n",
    "pink = cv2.imread(\"C:/Users/FreeComp/Desktop/open/images/pink.jpg\")\n",
    "brightness_increase = 100\n",
    "increase = cv2.add(pink,brightness_increase)\n",
    "cv2.imshow(\"increase\",increase)\n",
    "brightness_decrease = 100\n",
    "decrease  = cv2.subtract(pink,brightness_decrease)\n",
    "cv2.imshow(\"decrease\",decrease)\n",
    "cv2.waitKey(0)"
   ]
  },
  {
   "cell_type": "code",
   "execution_count": null,
   "id": "e890f02b",
   "metadata": {},
   "outputs": [],
   "source": []
  }
 ],
 "metadata": {
  "kernelspec": {
   "display_name": "Python 3 (ipykernel)",
   "language": "python",
   "name": "python3"
  },
  "language_info": {
   "codemirror_mode": {
    "name": "ipython",
    "version": 3
   },
   "file_extension": ".py",
   "mimetype": "text/x-python",
   "name": "python",
   "nbconvert_exporter": "python",
   "pygments_lexer": "ipython3",
   "version": "3.11.4"
  }
 },
 "nbformat": 4,
 "nbformat_minor": 5
}
